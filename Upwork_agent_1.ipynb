{
 "cells": [
  {
   "cell_type": "code",
   "execution_count": 1,
   "id": "99e6ac9b",
   "metadata": {},
   "outputs": [],
   "source": [
    "import os\n",
    "import requests\n",
    "import feedparser\n",
    "from bs4 import BeautifulSoup\n",
    "import json\n",
    "def load_last_entry():\n",
    "    if os.path.exists(\"last_entry.json\"):\n",
    "        with open(\"last_entry.json\", 'r') as file:\n",
    "            return json.load(file).get('last_entry_id', None)\n",
    "    return None\n"
   ]
  },
  {
   "cell_type": "code",
   "execution_count": 2,
   "id": "7bcdd3f9",
   "metadata": {},
   "outputs": [],
   "source": [
    "def save_last_entry(entry_id):\n",
    "    with open(\"last_entry.json\", 'w') as file:\n",
    "        json.dump({'last_entry_id': entry_id}, file)\n"
   ]
  },
  {
   "cell_type": "code",
   "execution_count": 3,
   "id": "9ea74b01",
   "metadata": {},
   "outputs": [],
   "source": [
    "from langchain_core.pydantic_v1  import BaseModel, AnyUrl,Field\n",
    "from langchain_core.messages.human import HumanMessage\n",
    "from typing import List\n",
    "\n",
    "from datetime import datetime\n",
    "class Mail_args(BaseModel):\n",
    "    summarized_text:str   = Field(description=\"The summarized form of job posting\")\n",
    "    published :str=Field(description=\"date and time the job was published\")"
   ]
  },
  {
   "cell_type": "code",
   "execution_count": 4,
   "id": "fa51cc46",
   "metadata": {},
   "outputs": [],
   "source": [
    "import smtplib\n",
    "from email.mime.multipart import MIMEMultipart\n",
    "from email.mime.text import MIMEText\n",
    "\n",
    "\n",
    "from langchain_core.tools import tool\n",
    "\n",
    "@tool(\"mail_tool\", args_schema=Mail_args)\n",
    "def send_email(summarized_text:str,published:str):\n",
    "    \"\"\"\n",
    "    This tool will  help you send message to owner about the new job posting\n",
    "    \n",
    "    \"\"\"\n",
    "    from_email = ''\n",
    "    from_password = ''\n",
    "    \n",
    "    # Create the email message\n",
    "    msg = MIMEMultipart('alternative')\n",
    "    msg['From'] = from_email\n",
    "    msg['To'] = \"\"\n",
    "    msg['Subject'] = \"Upwork Job posting\"\n",
    "    html = f\"\"\"\\\n",
    "           <html>\n",
    "             <head></head>\n",
    "             <body>\n",
    "               <p>Hello,<br>\n",
    "                  Here is a job posting you might be interested in:<br>\n",
    "                  <b>Published Date:</b>{published}<br>\n",
    "                  <b>Description:</b> {summarized_text}<br>\n",
    "               </p>\n",
    "             </body>\n",
    "           </html>\n",
    "           \"\"\"\n",
    "    # Attach the email content as HTML\n",
    "    msg.attach(MIMEText(html, 'html'))\n",
    "    \n",
    "    try:\n",
    "        # Connect to the SMTP server\n",
    "        server = smtplib.SMTP('smtp.gmail.com', 587)  # Replace with your SMTP server and port\n",
    "        server.starttls()\n",
    "        server.login(from_email, from_password)\n",
    "        \n",
    "        # Send the email\n",
    "        server.send_message(msg)\n",
    "        server.quit()\n",
    "        return \"Mail send to owner\"\n",
    "        \n",
    "        \n",
    "    except Exception as e:\n",
    "        raise e\n",
    "\n",
    "\n",
    "\n"
   ]
  },
  {
   "cell_type": "code",
   "execution_count": 5,
   "id": "2579cc3b",
   "metadata": {},
   "outputs": [],
   "source": [
    "import json\n",
    "\n",
    "\n",
    "\n",
    "def check_for_new_id(state):\n",
    "    \"\"\"\n",
    "    Entry point to graph checks if new RSS entry has been added from last entry\n",
    "    \"\"\"\n",
    "    message=state['messages']\n",
    "    feed_url = 'https://www.upwork.com/ab/feed/topics/rss?securityToken=b02b265cc7370a516f799f0ad4322d3491cfc4c65c150e4bfd8bfbf76b64a7a9c200e84aaadb245e26951e0458fa14f3deb56524e7b5c6ffbf3f23489f7c7937&userUid=1648942861128376320&orgUid=1648942861128376321&topic=7610275'\n",
    "    response = requests.get(feed_url)\n",
    "    response.raise_for_status()\n",
    "    feed = feedparser.parse(response.content)\n",
    "    last_entry_id = load_last_entry()\n",
    "    res=[]\n",
    "    for entry in feed.entries:\n",
    "        res.append(entry.id)\n",
    "    latest_job_posting=res[0]\n",
    "    if latest_job_posting==last_entry_id:\n",
    "        return \"end\"\n",
    "    else:\n",
    "        return \"clean_job_link_des\" \n",
    "    \n",
    "        \n",
    "        \n",
    "    \n"
   ]
  },
  {
   "cell_type": "code",
   "execution_count": 6,
   "id": "6015e959",
   "metadata": {},
   "outputs": [],
   "source": [
    "from typing import Annotated, Literal, Optional\n",
    "\n",
    "from typing_extensions import TypedDict\n",
    "\n",
    "from langgraph.graph.message import AnyMessage, add_messages\n",
    "\n",
    "\n",
    "class State(TypedDict):\n",
    "    messages: Annotated[list[AnyMessage], add_messages]\n",
    "    job_descs :list[str]\n",
    "    job_pubs:list[str]\n",
    "    summarized_text:str\n",
    "        \n",
    "        \n",
    "class Single_docs(TypedDict):\n",
    "    job_desc:str\n",
    "    job_pub:str\n",
    "    "
   ]
  },
  {
   "cell_type": "code",
   "execution_count": 7,
   "id": "5a10a2c9",
   "metadata": {},
   "outputs": [],
   "source": [
    "from langchain_core.prompts import ChatPromptTemplate, PromptTemplate\n",
    "from langchain_openai import ChatOpenAI\n",
    "from langchain_groq import ChatGroq\n",
    "from langgraph.prebuilt import ToolNode\n",
    "all_tools=[send_email]\n",
    "\n",
    "def agent(state:Single_docs):\n",
    "    llm = ChatOpenAI(temperature=0,\n",
    "    model=\"gpt-4o-mini\")\n",
    "    summarizer_prompt = ChatPromptTemplate.from_messages([\n",
    "        (\n",
    "            \"system\",\n",
    "            \"You will be given upwork job posting your job write the summary of the job posting and send the summarize version to the owner \"\n",
    "            \"Always use the mail tool for sending email\"\n",
    "            \"here is the job_description {job_description}\"\n",
    "            \" and the time that it was published {pub}\"\n",
    "            ,\n",
    "        ),\n",
    "        (\"placeholder\", \"{messages}\"),\n",
    "    ]\n",
    ")\n",
    "    assistant_runnable=summarizer_prompt|llm.bind_tools(all_tools)\n",
    "    summarized_text=assistant_runnable.invoke({\"messages\": state[\"messages\"],\"job_description\":state['job_desc'],\"pub\":state['job_pub']})\n",
    "    return {\n",
    "        \"messages\": summarized_text,\n",
    "    }\n",
    "    "
   ]
  },
  {
   "cell_type": "code",
   "execution_count": 8,
   "id": "03561329",
   "metadata": {},
   "outputs": [],
   "source": [
    "from collections import defaultdict\n",
    "# returns list of new jobs except the last entry\n",
    "def clean_job_link_des(state:State):\n",
    "    messages=state['messages']\n",
    "    feed_url = 'https://www.upwork.com/ab/feed/topics/rss?securityToken=b02b265cc7370a516f799f0ad4322d3491cfc4c65c150e4bfd8bfbf76b64a7a9c200e84aaadb245e26951e0458fa14f3deb56524e7b5c6ffbf3f23489f7c7937&userUid=1648942861128376320&orgUid=1648942861128376321&topic=7610275'\n",
    "    response = requests.get(feed_url)\n",
    "    response.raise_for_status()\n",
    "    feed = feedparser.parse(response.content)\n",
    "    last_entry_id = load_last_entry()\n",
    "    res=[]\n",
    "    for entry in feed.entries:       \n",
    "        if last_entry_id == entry.id:\n",
    "            break\n",
    "        else:\n",
    "            res.append(entry)\n",
    "    if res :\n",
    "        last_entry_id=res[0]['link']\n",
    "        save_last_entry(last_entry_id)\n",
    "    cleaned_res=defaultdict(list)\n",
    "    for  j in  res:\n",
    "        soup = BeautifulSoup(j.description, 'html.parser')\n",
    "        tags=['br','b']\n",
    "        for br in soup.find_all(tags):\n",
    "            br.decompose()\n",
    "        entry_link=j.id\n",
    "        Title=j.title\n",
    "        Link=j.link\n",
    "        Published=j.published\n",
    "        entry_description = soup.prettify() \n",
    "        cleaned_res[Link].append([Published,entry_description])\n",
    "    pub=[]\n",
    "    job_des=[]\n",
    "    for key, value in cleaned_res.items():\n",
    "        published=value[0][0]\n",
    "        Job_description=value[0][1]\n",
    "        pub.append(published)\n",
    "        job_des.append(Job_description)\n",
    "    return {\n",
    "        \"job_descs\":job_des,\n",
    "    \"job_pubs\":pub,\"messages\":messages\n",
    "    }\n"
   ]
  },
  {
   "cell_type": "code",
   "execution_count": 9,
   "id": "a02d15d2",
   "metadata": {},
   "outputs": [],
   "source": [
    "from langchain_core.runnables import Runnable, RunnableConfig, RunnableLambda\n",
    "def handle_tool_error(state) -> dict:\n",
    "    error = state.get(\"error\")\n",
    "    tool_calls = state[\"messages\"][-1].tool_calls\n",
    "    return {\n",
    "        \"messages\": [\n",
    "            ToolMessage(\n",
    "                content=f\"Error: {repr(error)}\\n please fix your mistakes.\",\n",
    "                tool_call_id=tc[\"id\"],\n",
    "            )\n",
    "            for tc in tool_calls\n",
    "        ]\n",
    "    }\n",
    "def create_tool_node_with_fallback(tool):\n",
    "    return ToolNode(tool).with_fallbacks(\n",
    "        [RunnableLambda(handle_tool_error)], exception_key=\"error\"\n",
    "    )"
   ]
  },
  {
   "cell_type": "code",
   "execution_count": 10,
   "id": "a48139ce",
   "metadata": {},
   "outputs": [],
   "source": [
    "def route_tools(state) -> Literal[\"tools\", \"__end__\"]:\n",
    "    \"\"\"Determine whether to use tools or end the conversation based on the last message.\n",
    "\n",
    "    Args:\n",
    "        state (schemas.State): The current state of the conversation.\n",
    "\n",
    "    Returns:\n",
    "        Literal[\"tools\", \"__end__\"]: The next step in the graph.\n",
    "    \"\"\"\n",
    "    msg = state[\"messages\"][-1]\n",
    "    if msg.tool_calls:\n",
    "        return \"tools\"\n",
    "    return END"
   ]
  },
  {
   "cell_type": "code",
   "execution_count": 11,
   "id": "b63877ab",
   "metadata": {},
   "outputs": [],
   "source": [
    "from langgraph.constants import Send\n",
    "def continue_to_des(state: State):\n",
    "    return [Send(\"agent\", {\"job_des\": s,\"job_pub\":y,\"messages\":state['messages']}) for s,y in zip(state['job_des'],state['job_pub'])]"
   ]
  },
  {
   "cell_type": "code",
   "execution_count": 12,
   "id": "b2f2d115",
   "metadata": {},
   "outputs": [],
   "source": [
    "from langgraph.graph import END, StateGraph,START\n",
    "from langgraph.constants import Send\n",
    "workflow = StateGraph(State)\n",
    "\n",
    "workflow.add_node(\"agent\",agent)\n",
    "workflow.add_conditional_edges(START, check_for_new_id,{\n",
    "    \"end\":END,\n",
    "    \"clean_job_link_des\":\"clean_job_link_des\"\n",
    "})\n",
    "workflow.add_node(\"tools\", create_tool_node_with_fallback(all_tools))\n",
    "workflow.add_node(\"clean_job_link_des\",clean_job_link_des)\n",
    "workflow.add_conditional_edges(\"clean_job_link_des\", continue_to_des)\n",
    "workflow.add_conditional_edges(\"agent\", route_tools)\n",
    "workflow.add_edge(\"tools\", \"agent\")"
   ]
  },
  {
   "cell_type": "code",
   "execution_count": 13,
   "id": "161c3030",
   "metadata": {},
   "outputs": [],
   "source": [
    "graph = workflow.compile()"
   ]
  },
  {
   "cell_type": "code",
   "execution_count": 14,
   "id": "f702cc65",
   "metadata": {
    "scrolled": true
   },
   "outputs": [
    {
     "data": {
      "image/jpeg": "[encoded data removed]",
      "text/plain": [
       "<IPython.core.display.Image object>"
      ]
     },
     "metadata": {},
     "output_type": "display_data"
    }
   ],
   "source": [
    "from IPython.display import Image, display\n",
    "\n",
    "try:\n",
    "    display(Image(graph.get_graph(xray=True).draw_mermaid_png()))\n",
    "except Exception:\n",
    "    # This requires some extra dependencies and is optional\n",
    "    pass"
   ]
  },
  {
   "cell_type": "code",
   "execution_count": 137,
   "id": "5799d49d",
   "metadata": {},
   "outputs": [
    {
     "name": "stdout",
     "output_type": "stream",
     "text": [
      "\"Node 'clean_job_link_des':\"\n",
      "'\\n---\\n'\n",
      "\n",
      "\"Node 'agent':\"\n",
      "'\\n---\\n'\n",
      "\n",
      "\"Node 'agent':\"\n",
      "'\\n---\\n'\n"
     ]
    },
    {
     "ename": "InvalidUpdateError",
     "evalue": "Invalid update for channel summarized_text with values ['', '']",
     "output_type": "error",
     "traceback": [
      "\u001b[1;31m---------------------------------------------------------------------------\u001b[0m",
      "\u001b[1;31mInvalidUpdateError\u001b[0m                        Traceback (most recent call last)",
      "File \u001b[1;32m~\\Desktop\\Python\\Lib\\site-packages\\langgraph\\pregel\\__init__.py:1872\u001b[0m, in \u001b[0;36m_apply_writes\u001b[1;34m(checkpoint, channels, pending_writes, get_next_version)\u001b[0m\n\u001b[0;32m   1871\u001b[0m \u001b[38;5;28;01mtry\u001b[39;00m:\n\u001b[1;32m-> 1872\u001b[0m     updated \u001b[38;5;241m=\u001b[39m \u001b[43mchannels\u001b[49m\u001b[43m[\u001b[49m\u001b[43mchan\u001b[49m\u001b[43m]\u001b[49m\u001b[38;5;241;43m.\u001b[39;49m\u001b[43mupdate\u001b[49m\u001b[43m(\u001b[49m\u001b[43mvals\u001b[49m\u001b[43m)\u001b[49m\n\u001b[0;32m   1873\u001b[0m \u001b[38;5;28;01mexcept\u001b[39;00m InvalidUpdateError \u001b[38;5;28;01mas\u001b[39;00m e:\n",
      "File \u001b[1;32m~\\Desktop\\Python\\Lib\\site-packages\\langgraph\\channels\\last_value.py:55\u001b[0m, in \u001b[0;36mLastValue.update\u001b[1;34m(self, values)\u001b[0m\n\u001b[0;32m     54\u001b[0m \u001b[38;5;28;01mif\u001b[39;00m \u001b[38;5;28mlen\u001b[39m(values) \u001b[38;5;241m!=\u001b[39m \u001b[38;5;241m1\u001b[39m:\n\u001b[1;32m---> 55\u001b[0m     \u001b[38;5;28;01mraise\u001b[39;00m InvalidUpdateError(\u001b[38;5;124m\"\u001b[39m\u001b[38;5;124mLastValue can only receive one value per step.\u001b[39m\u001b[38;5;124m\"\u001b[39m)\n\u001b[0;32m     57\u001b[0m \u001b[38;5;28mself\u001b[39m\u001b[38;5;241m.\u001b[39mvalue \u001b[38;5;241m=\u001b[39m values[\u001b[38;5;241m-\u001b[39m\u001b[38;5;241m1\u001b[39m]\n",
      "\u001b[1;31mInvalidUpdateError\u001b[0m: LastValue can only receive one value per step.",
      "\nThe above exception was the direct cause of the following exception:\n",
      "\u001b[1;31mInvalidUpdateError\u001b[0m                        Traceback (most recent call last)",
      "Cell \u001b[1;32mIn[137], line 3\u001b[0m\n\u001b[0;32m      1\u001b[0m \u001b[38;5;28;01mfrom\u001b[39;00m \u001b[38;5;21;01mpprint\u001b[39;00m \u001b[38;5;28;01mimport\u001b[39;00m pprint\n\u001b[0;32m      2\u001b[0m inputs \u001b[38;5;241m=\u001b[39m {\u001b[38;5;124m\"\u001b[39m\u001b[38;5;124mmessages\u001b[39m\u001b[38;5;124m\"\u001b[39m: \u001b[38;5;124m\"\u001b[39m\u001b[38;5;124m summarize the job postings and send me mail\u001b[39m\u001b[38;5;124m\"\u001b[39m}\n\u001b[1;32m----> 3\u001b[0m \u001b[38;5;28;01mfor\u001b[39;00m output \u001b[38;5;129;01min\u001b[39;00m memgraph\u001b[38;5;241m.\u001b[39mstream(inputs):\n\u001b[0;32m      4\u001b[0m     \u001b[38;5;28;01mfor\u001b[39;00m key, value \u001b[38;5;129;01min\u001b[39;00m output\u001b[38;5;241m.\u001b[39mitems():\n\u001b[0;32m      5\u001b[0m         \u001b[38;5;66;03m# Node\u001b[39;00m\n\u001b[0;32m      6\u001b[0m         pprint(\u001b[38;5;124mf\u001b[39m\u001b[38;5;124m\"\u001b[39m\u001b[38;5;124mNode \u001b[39m\u001b[38;5;124m'\u001b[39m\u001b[38;5;132;01m{\u001b[39;00mkey\u001b[38;5;132;01m}\u001b[39;00m\u001b[38;5;124m'\u001b[39m\u001b[38;5;124m:\u001b[39m\u001b[38;5;124m\"\u001b[39m)\n",
      "File \u001b[1;32m~\\Desktop\\Python\\Lib\\site-packages\\langgraph\\pregel\\__init__.py:1126\u001b[0m, in \u001b[0;36mPregel.stream\u001b[1;34m(self, input, config, stream_mode, output_keys, input_keys, interrupt_before, interrupt_after, debug)\u001b[0m\n\u001b[0;32m   1121\u001b[0m     print_step_writes(\n\u001b[0;32m   1122\u001b[0m         step, pending_writes, \u001b[38;5;28mself\u001b[39m\u001b[38;5;241m.\u001b[39mstream_channels_list\n\u001b[0;32m   1123\u001b[0m     )\n\u001b[0;32m   1125\u001b[0m \u001b[38;5;66;03m# apply writes to channels\u001b[39;00m\n\u001b[1;32m-> 1126\u001b[0m \u001b[43m_apply_writes\u001b[49m\u001b[43m(\u001b[49m\n\u001b[0;32m   1127\u001b[0m \u001b[43m    \u001b[49m\u001b[43mcheckpoint\u001b[49m\u001b[43m,\u001b[49m\n\u001b[0;32m   1128\u001b[0m \u001b[43m    \u001b[49m\u001b[43mchannels\u001b[49m\u001b[43m,\u001b[49m\n\u001b[0;32m   1129\u001b[0m \u001b[43m    \u001b[49m\u001b[43mpending_writes\u001b[49m\u001b[43m,\u001b[49m\n\u001b[0;32m   1130\u001b[0m \u001b[43m    \u001b[49m\u001b[43m(\u001b[49m\n\u001b[0;32m   1131\u001b[0m \u001b[43m        \u001b[49m\u001b[38;5;28;43mself\u001b[39;49m\u001b[38;5;241;43m.\u001b[39;49m\u001b[43mcheckpointer\u001b[49m\u001b[38;5;241;43m.\u001b[39;49m\u001b[43mget_next_version\u001b[49m\n\u001b[0;32m   1132\u001b[0m \u001b[43m        \u001b[49m\u001b[38;5;28;43;01mif\u001b[39;49;00m\u001b[43m \u001b[49m\u001b[38;5;28;43mself\u001b[39;49m\u001b[38;5;241;43m.\u001b[39;49m\u001b[43mcheckpointer\u001b[49m\n\u001b[0;32m   1133\u001b[0m \u001b[43m        \u001b[49m\u001b[38;5;28;43;01melse\u001b[39;49;00m\u001b[43m \u001b[49m\u001b[43m_increment\u001b[49m\n\u001b[0;32m   1134\u001b[0m \u001b[43m    \u001b[49m\u001b[43m)\u001b[49m\u001b[43m,\u001b[49m\n\u001b[0;32m   1135\u001b[0m \u001b[43m\u001b[49m\u001b[43m)\u001b[49m\n\u001b[0;32m   1137\u001b[0m \u001b[38;5;66;03m# yield values output\u001b[39;00m\n\u001b[0;32m   1138\u001b[0m \u001b[38;5;28;01mif\u001b[39;00m \u001b[38;5;124m\"\u001b[39m\u001b[38;5;124mvalues\u001b[39m\u001b[38;5;124m\"\u001b[39m \u001b[38;5;129;01min\u001b[39;00m stream_modes:\n",
      "File \u001b[1;32m~\\Desktop\\Python\\Lib\\site-packages\\langgraph\\pregel\\__init__.py:1874\u001b[0m, in \u001b[0;36m_apply_writes\u001b[1;34m(checkpoint, channels, pending_writes, get_next_version)\u001b[0m\n\u001b[0;32m   1872\u001b[0m     updated \u001b[38;5;241m=\u001b[39m channels[chan]\u001b[38;5;241m.\u001b[39mupdate(vals)\n\u001b[0;32m   1873\u001b[0m \u001b[38;5;28;01mexcept\u001b[39;00m InvalidUpdateError \u001b[38;5;28;01mas\u001b[39;00m e:\n\u001b[1;32m-> 1874\u001b[0m     \u001b[38;5;28;01mraise\u001b[39;00m InvalidUpdateError(\n\u001b[0;32m   1875\u001b[0m         \u001b[38;5;124mf\u001b[39m\u001b[38;5;124m\"\u001b[39m\u001b[38;5;124mInvalid update for channel \u001b[39m\u001b[38;5;132;01m{\u001b[39;00mchan\u001b[38;5;132;01m}\u001b[39;00m\u001b[38;5;124m with values \u001b[39m\u001b[38;5;132;01m{\u001b[39;00mvals\u001b[38;5;132;01m}\u001b[39;00m\u001b[38;5;124m\"\u001b[39m\n\u001b[0;32m   1876\u001b[0m     ) \u001b[38;5;28;01mfrom\u001b[39;00m \u001b[38;5;21;01me\u001b[39;00m\n\u001b[0;32m   1877\u001b[0m \u001b[38;5;28;01mif\u001b[39;00m updated \u001b[38;5;129;01mand\u001b[39;00m get_next_version \u001b[38;5;129;01mis\u001b[39;00m \u001b[38;5;129;01mnot\u001b[39;00m \u001b[38;5;28;01mNone\u001b[39;00m:\n\u001b[0;32m   1878\u001b[0m     checkpoint[\u001b[38;5;124m\"\u001b[39m\u001b[38;5;124mchannel_versions\u001b[39m\u001b[38;5;124m\"\u001b[39m][chan] \u001b[38;5;241m=\u001b[39m get_next_version(\n\u001b[0;32m   1879\u001b[0m         max_version, channels[chan]\n\u001b[0;32m   1880\u001b[0m     )\n",
      "\u001b[1;31mInvalidUpdateError\u001b[0m: Invalid update for channel summarized_text with values ['', '']"
     ]
    }
   ],
   "source": [
    "from pprint import pprint\n",
    "inputs = {\"messages\": \" summarize the job postings and send me mail\"}\n",
    "for output in graph.stream(inputs):\n",
    "    for key, value in output.items():\n",
    "        # Node\n",
    "        pprint(f\"Node '{key}':\")\n",
    "        # Optional: print full state at each node\n",
    "        # pprint.pprint(value[\"keys\"], indent=2, width=80, depth=None)\n",
    "    pprint(\"\\n---\\n\")\n",
    "\n",
    "# Final generation\n"
   ]
  },
  {
   "cell_type": "code",
   "execution_count": null,
   "id": "c5d50fcd",
   "metadata": {},
   "outputs": [],
   "source": []
  },
  {
   "cell_type": "code",
   "execution_count": null,
   "id": "dac73875",
   "metadata": {},
   "outputs": [],
   "source": []
  },
  {
   "cell_type": "code",
   "execution_count": null,
   "id": "43c58a75",
   "metadata": {},
   "outputs": [],
   "source": []
  },
  {
   "cell_type": "code",
   "execution_count": null,
   "id": "34879799",
   "metadata": {},
   "outputs": [],
   "source": []
  },
  {
   "cell_type": "code",
   "execution_count": null,
   "id": "889f54ac",
   "metadata": {},
   "outputs": [],
   "source": []
  },
  {
   "cell_type": "code",
   "execution_count": null,
   "id": "8e9a6877",
   "metadata": {},
   "outputs": [],
   "source": []
  },
  {
   "cell_type": "code",
   "execution_count": null,
   "id": "7f15aebe",
   "metadata": {},
   "outputs": [],
   "source": []
  },
  {
   "cell_type": "code",
   "execution_count": null,
   "id": "5603f62a",
   "metadata": {},
   "outputs": [],
   "source": []
  },
  {
   "cell_type": "code",
   "execution_count": null,
   "id": "8534f8a5",
   "metadata": {},
   "outputs": [],
   "source": []
  },
  {
   "cell_type": "code",
   "execution_count": null,
   "id": "020a90da",
   "metadata": {},
   "outputs": [],
   "source": []
  },
  {
   "cell_type": "code",
   "execution_count": null,
   "id": "73cd98f2",
   "metadata": {},
   "outputs": [],
   "source": []
  },
  {
   "cell_type": "code",
   "execution_count": null,
   "id": "81694af0",
   "metadata": {},
   "outputs": [],
   "source": []
  },
  {
   "cell_type": "code",
   "execution_count": null,
   "id": "25a140c4",
   "metadata": {},
   "outputs": [],
   "source": []
  },
  {
   "cell_type": "code",
   "execution_count": null,
   "id": "9507f042",
   "metadata": {},
   "outputs": [],
   "source": []
  },
  {
   "cell_type": "code",
   "execution_count": null,
   "id": "18d3e818",
   "metadata": {},
   "outputs": [],
   "source": []
  },
  {
   "cell_type": "code",
   "execution_count": null,
   "id": "1e67d872",
   "metadata": {},
   "outputs": [],
   "source": []
  },
  {
   "cell_type": "code",
   "execution_count": 17,
   "id": "e2126bfe",
   "metadata": {},
   "outputs": [
    {
     "ename": "NameError",
     "evalue": "name 'lenh' is not defined",
     "output_type": "error",
     "traceback": [
      "\u001b[1;31m---------------------------------------------------------------------------\u001b[0m",
      "\u001b[1;31mNameError\u001b[0m                                 Traceback (most recent call last)",
      "Cell \u001b[1;32mIn[17], line 1\u001b[0m\n\u001b[1;32m----> 1\u001b[0m \u001b[43mlenh\u001b[49m()\n",
      "\u001b[1;31mNameError\u001b[0m: name 'lenh' is not defined"
     ]
    }
   ],
   "source": [
    "lenh()"
   ]
  },
  {
   "cell_type": "code",
   "execution_count": null,
   "id": "e6cee212",
   "metadata": {},
   "outputs": [],
   "source": []
  },
  {
   "cell_type": "code",
   "execution_count": null,
   "id": "8d1c4df6",
   "metadata": {},
   "outputs": [],
   "source": []
  },
  {
   "cell_type": "code",
   "execution_count": null,
   "id": "972b6a66",
   "metadata": {},
   "outputs": [],
   "source": []
  },
  {
   "cell_type": "code",
   "execution_count": null,
   "id": "e6331e76",
   "metadata": {},
   "outputs": [],
   "source": []
  },
  {
   "cell_type": "code",
   "execution_count": null,
   "id": "4d2d4a40",
   "metadata": {},
   "outputs": [],
   "source": []
  },
  {
   "cell_type": "code",
   "execution_count": null,
   "id": "90c302cb",
   "metadata": {},
   "outputs": [],
   "source": []
  },
  {
   "cell_type": "code",
   "execution_count": null,
   "id": "690e35e0",
   "metadata": {},
   "outputs": [],
   "source": []
  },
  {
   "cell_type": "code",
   "execution_count": null,
   "id": "27729ed4",
   "metadata": {},
   "outputs": [],
   "source": []
  },
  {
   "cell_type": "code",
   "execution_count": null,
   "id": "0123333a",
   "metadata": {},
   "outputs": [],
   "source": [
    "import requests\n",
    "import feedparser\n",
    "from bs4 import BeautifulSoup\n",
    "import json\n",
    "feed_url = 'https://www.upwork.com/ab/feed/topics/rss?securityToken=b02b265cc7370a516f799f0ad4322d3491cfc4c65c150e4bfd8bfbf76b64a7a9c200e84aaadb245e26951e0458fa14f3deb56524e7b5c6ffbf3f23489f7c7937&userUid=1648942861128376320&orgUid=1648942861128376321&topic=7610275'\n",
    "response = requests.get(feed_url)\n",
    "response.raise_for_status()\n",
    "feed = feedparser.parse(response.content)\n",
    "#last_entry_id = load_last_entry()\n",
    "res=[]\n",
    "for entry in feed.entries:       \n",
    "    res.append(entry.id)\n",
    "    soup = BeautifulSoup(entry.description, 'html.parser')\n",
    "    tags=['br','b']\n",
    "    for br in soup.find_all(tags):\n",
    "        br.decompose()\n",
    "    entry_link=entry.id\n",
    "    Title=entry.title\n",
    "    Link=entry.link\n",
    "    Published=entry.published\n",
    "    #new_last_entry_id=res[0]\n",
    "    entry_description = soup.prettify()        \n",
    "    print(Link)\n",
    "    print(Title)\n",
    "    print(entry_description)\n",
    "    print(\"*\"*100)\n",
    "       "
   ]
  },
  {
   "cell_type": "code",
   "execution_count": null,
   "id": "ebb419f9",
   "metadata": {},
   "outputs": [],
   "source": []
  },
  {
   "cell_type": "code",
   "execution_count": null,
   "id": "9fe730e7",
   "metadata": {},
   "outputs": [],
   "source": [
    "import operator\n",
    "from typing import Annotated, TypedDict\n",
    "\n",
    "from langchain_core.pydantic_v1 import BaseModel\n",
    "from langchain_anthropic import ChatAnthropic\n",
    "\n",
    "from langgraph.constants import Send\n",
    "from langgraph.graph import END, StateGraph, START\n",
    "\n",
    "# Model and prompts\n",
    "# Define model and prompts we will use\n",
    "subjects_prompt = \"\"\"Generate a comma separated list of between 2 and 5 examples related to: {topic}.\"\"\"\n",
    "joke_prompt = \"\"\"Generate a joke about {subject}\"\"\"\n",
    "best_joke_prompt = \"\"\"Below are a bunch of jokes about {topic}. Select the best one! Return the ID of the best one.\n",
    "\n",
    "{jokes}\"\"\"\n",
    "\n",
    "\n",
    "class Subjects(BaseModel):\n",
    "    subjects: list[str]\n",
    "\n",
    "\n",
    "class Joke(BaseModel):\n",
    "    joke: str\n",
    "\n",
    "\n",
    "class BestJoke(BaseModel):\n",
    "    id: int\n",
    "\n",
    "\n",
    "model = ChatOpenAI(model=\"gpt-4o-mini\")\n",
    "\n",
    "# Graph components: define the components that will make up the graph\n",
    "\n",
    "\n",
    "# This will be the overall state of the main graph.\n",
    "# It will contain a topic (which we expect the user to provide)\n",
    "# and then will generate a list of subjects, and then a joke for\n",
    "# each subject\n",
    "class OverallState(TypedDict):\n",
    "    topic: str\n",
    "    subjects: list\n",
    "    # Notice here we use the operator.add\n",
    "    # This is because we want combine all the jokes we generate\n",
    "    # from individual nodes back into one list - this is essentially\n",
    "    # the \"reduce\" part\n",
    "    jokes: Annotated[list, operator.add]\n",
    "    best_selected_joke: str\n",
    "\n",
    "\n",
    "# This will be the state of the node that we will \"map\" all\n",
    "# subjects to in order to generate a joke\n",
    "class JokeState(TypedDict):\n",
    "    subject: str\n",
    "\n",
    "\n",
    "# This is the function we will use to generate the subjects of the jokes\n",
    "def generate_topics(state: OverallState):\n",
    "    prompt = subjects_prompt.format(topic=state[\"topic\"])\n",
    "    response = model.with_structured_output(Subjects).invoke(prompt)\n",
    "    return {\"subjects\": response.subjects}\n",
    "\n",
    "\n",
    "# Here we generate a joke, given a subject\n",
    "def generate_joke(state: JokeState):\n",
    "    prompt = joke_prompt.format(subject=state[\"subject\"])\n",
    "    response = model.with_structured_output(Joke).invoke(prompt)\n",
    "    return {\"jokes\": [response.joke]}\n",
    "\n",
    "\n",
    "# Here we define the logic to map out over the generated subjects\n",
    "# We will use this an edge in the graph\n",
    "def continue_to_jokes(state: OverallState):\n",
    "    # We will return a list of `Send` objects\n",
    "    # Each `Send` object consists of the name of a node in the graph\n",
    "    # as well as the state to send to that node\n",
    "    return [Send(\"generate_joke\", {\"subject\": s}) for s in state[\"subjects\"]]\n",
    "\n",
    "\n",
    "# Here we will judge the best joke\n",
    "def best_joke(state: OverallState):\n",
    "    jokes = \"\\n\\n\".join(state[\"jokes\"])\n",
    "    prompt = best_joke_prompt.format(topic=state[\"topic\"], jokes=jokes)\n",
    "    response = model.with_structured_output(BestJoke).invoke(prompt)\n",
    "    return {\"best_selected_joke\": state[\"jokes\"][response.id]}\n",
    "\n",
    "\n",
    "# Construct the graph: here we put everything together to construct our graph\n",
    "graph = StateGraph(OverallState)\n",
    "graph.add_node(\"generate_topics\", generate_topics)\n",
    "graph.add_node(\"generate_joke\", generate_joke)\n",
    "graph.add_node(\"best_joke\", best_joke)\n",
    "graph.add_edge(START, \"generate_topics\")\n",
    "graph.add_conditional_edges(\"generate_topics\", continue_to_jokes, [\"generate_joke\"])\n",
    "graph.add_edge(\"generate_joke\", \"best_joke\")\n",
    "graph.add_edge(\"best_joke\", END)\n",
    "app = graph.compile()"
   ]
  },
  {
   "cell_type": "code",
   "execution_count": null,
   "id": "223f1d17",
   "metadata": {},
   "outputs": [],
   "source": [
    "app.invoke({\"topic\":\"animal\"})"
   ]
  },
  {
   "cell_type": "code",
   "execution_count": 32,
   "id": "487f1f86",
   "metadata": {},
   "outputs": [],
   "source": [
    "from langgraph.prebuilt import ToolInvocation\n",
    "invocation = ToolInvocation(\n",
    "    tool=\"mail_tool\",\n",
    "     tool_input=\"What is the capital of France?\")"
   ]
  },
  {
   "cell_type": "code",
   "execution_count": 37,
   "id": "9aa5e552",
   "metadata": {},
   "outputs": [],
   "source": [
    "from langgraph.prebuilt.tool_executor import ToolExecutor, ToolInvocation\n",
    "executor = ToolExecutor(all_tools)\n",
    "invocation = ToolInvocation(tool=\"mail_tool\", tool_input={\"summarized_text\":\"hellow\",\"published\":\"eett\"})\n",
    "result = executor.invoke(invocation)"
   ]
  },
  {
   "cell_type": "code",
   "execution_count": null,
   "id": "2817e4c6",
   "metadata": {},
   "outputs": [],
   "source": [
    "def tool_node(state:Single_docs):   \n",
    "    executor = ToolExecutor(all_tools)\n",
    "    invocation = ToolInvocation(tool=\"mail_tool\", tool_input={\"summarized_text\":state['job_desc'],\"published\":state[\"job_pub\"]})\n",
    "    result = executor.invoke(invocation)"
   ]
  },
  {
   "cell_type": "code",
   "execution_count": 38,
   "id": "6e7d106a",
   "metadata": {},
   "outputs": [
    {
     "data": {
      "text/plain": [
       "'Mail send to owner'"
      ]
     },
     "execution_count": 38,
     "metadata": {},
     "output_type": "execute_result"
    }
   ],
   "source": [
    "result"
   ]
  },
  {
   "cell_type": "code",
   "execution_count": null,
   "id": "079645ee",
   "metadata": {},
   "outputs": [],
   "source": [
    "class Single_docs(TypedDict):\n",
    "    job_desc:str\n",
    "    job_pub:str"
   ]
  }
 ],
 "metadata": {
  "kernelspec": {
   "display_name": "Python 3 (ipykernel)",
   "language": "python",
   "name": "python3"
  },
  "language_info": {
   "codemirror_mode": {
    "name": "ipython",
    "version": 3
   },
   "file_extension": ".py",
   "mimetype": "text/x-python",
   "name": "python",
   "nbconvert_exporter": "python",
   "pygments_lexer": "ipython3",
   "version": "3.11.2"
  }
 },
 "nbformat": 4,
 "nbformat_minor": 5
}
